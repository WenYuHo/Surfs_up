{
 "cells": [
  {
   "cell_type": "code",
   "execution_count": 1,
   "metadata": {},
   "outputs": [],
   "source": [
    "%matplotlib inline\n",
    "from matplotlib import style\n",
    "style.use('fivethirtyeight')\n",
    "import matplotlib.pyplot as plt"
   ]
  },
  {
   "cell_type": "code",
   "execution_count": 2,
   "metadata": {},
   "outputs": [],
   "source": [
    "import numpy as np\n",
    "import pandas as pd"
   ]
  },
  {
   "cell_type": "code",
   "execution_count": 3,
   "metadata": {},
   "outputs": [],
   "source": [
    "import datetime as dt"
   ]
  },
  {
   "cell_type": "markdown",
   "metadata": {},
   "source": [
    "# Reflect Tables into SQLAlchemy ORM"
   ]
  },
  {
   "cell_type": "code",
   "execution_count": 4,
   "metadata": {},
   "outputs": [],
   "source": [
    "# Python SQL toolkit and Object Relational Mapper\n",
    "import sqlalchemy\n",
    "from sqlalchemy.ext.automap import automap_base\n",
    "from sqlalchemy.orm import Session\n",
    "from sqlalchemy import create_engine, func"
   ]
  },
  {
   "cell_type": "code",
   "execution_count": 5,
   "metadata": {},
   "outputs": [],
   "source": [
    "# This function doesn't actually connect to our database;\n",
    "# it just prepares the database file to be connected to later on.\n",
    "engine = create_engine(\"sqlite:///hawaii.sqlite\")"
   ]
  },
  {
   "cell_type": "code",
   "execution_count": 6,
   "metadata": {},
   "outputs": [],
   "source": [
    "# reflect an existing database into a new model\n",
    "# (to transfer the contents of the database into a different structure of data.)\n",
    "Base = automap_base()\n",
    "\n",
    "# reflect the tables\n",
    "# reflect the schema from the tables to our code\n",
    "Base.prepare(engine, reflect=True)"
   ]
  },
  {
   "cell_type": "code",
   "execution_count": 7,
   "metadata": {},
   "outputs": [
    {
     "name": "stdout",
     "output_type": "stream",
     "text": [
      "<class 'sqlalchemy.ext.automap.Base'>\n",
      "<sqlalchemy.util._collections.Properties object at 0x000001EA7AC1BFD8>\n"
     ]
    }
   ],
   "source": [
    "print(Base)\n",
    "\n",
    "print(Base.classes)"
   ]
  },
  {
   "cell_type": "code",
   "execution_count": 8,
   "metadata": {},
   "outputs": [
    {
     "data": {
      "text/plain": [
       "['measurement', 'station']"
      ]
     },
     "execution_count": 8,
     "metadata": {},
     "output_type": "execute_result"
    }
   ],
   "source": [
    "# We can view all of the classes that automap found\n",
    "Base.classes.keys()"
   ]
  },
  {
   "cell_type": "code",
   "execution_count": 9,
   "metadata": {},
   "outputs": [],
   "source": [
    "# Save references to each table, Base.classes.<class name>\n",
    "Measurement = Base.classes.measurement\n",
    "Station = Base.classes.station"
   ]
  },
  {
   "cell_type": "code",
   "execution_count": 10,
   "metadata": {},
   "outputs": [
    {
     "data": {
      "text/plain": [
       "['id', 'station', 'date', 'prcp', 'tobs']"
      ]
     },
     "execution_count": 10,
     "metadata": {},
     "output_type": "execute_result"
    }
   ],
   "source": [
    "[column.key for column in Measurement.__table__.columns]"
   ]
  },
  {
   "cell_type": "code",
   "execution_count": 11,
   "metadata": {},
   "outputs": [
    {
     "data": {
      "text/plain": [
       "['id', 'station', 'name', 'latitude', 'longitude', 'elevation']"
      ]
     },
     "execution_count": 11,
     "metadata": {},
     "output_type": "execute_result"
    }
   ],
   "source": [
    "Station.__table__.columns.keys()"
   ]
  },
  {
   "cell_type": "markdown",
   "metadata": {},
   "source": [
    "### https://stackoverflow.com/questions/34322471/sqlalchemy-engine-connection-and-session-difference\n",
    "### https://leportella.com/sqlalchemy-tutorial/\n",
    "### https://www.bookstack.cn/read/sqlalchemy-1.3/36e94aefaeafe43e.md"
   ]
  },
  {
   "cell_type": "code",
   "execution_count": 12,
   "metadata": {},
   "outputs": [
    {
     "data": {
      "text/plain": [
       "['measurement', 'station']"
      ]
     },
     "execution_count": 12,
     "metadata": {},
     "output_type": "execute_result"
    }
   ],
   "source": [
    "## Not sure why there seems so many differnt approaches \"https://stackoverflow.com/questions/34322471/sqlalchemy-engine-connection-and-session-difference\"\n",
    "engine.table_names()"
   ]
  },
  {
   "cell_type": "code",
   "execution_count": 13,
   "metadata": {},
   "outputs": [],
   "source": [
    "# Create our session (link) from Python to the DB\n",
    "session = Session(engine)"
   ]
  },
  {
   "cell_type": "markdown",
   "metadata": {},
   "source": [
    "# Exploratory Climate Analysis"
   ]
  },
  {
   "cell_type": "code",
   "execution_count": 14,
   "metadata": {},
   "outputs": [
    {
     "data": {
      "image/png": "[encoded data removed]",
      "text/plain": [
       "<Figure size 432x288 with 1 Axes>"
      ]
     },
     "metadata": {},
     "output_type": "display_data"
    }
   ],
   "source": [
    "# Design a query to retrieve the last 12 months of precipitation data and plot the results. \n",
    "\n",
    "#Starting from the last data point in the database. \n",
    "prev_year = dt.date(2017, 8, 23)\n",
    "\n",
    "# Calculate the date one year from the last date in data set. (One year(365 days) prior our date)\n",
    "prev_year = dt.date(2017, 8, 23) - dt.timedelta(days=365)\n",
    "\n",
    "# Perform a query to retrieve the data and precipitation scores\n",
    "\n",
    "results = session.query(Measurement.date, Measurement.prcp).filter(Measurement.date >= prev_year).all()\n",
    "\n",
    "# Save the query results as a Pandas DataFrame and set the index to the date column\n",
    "df = pd.DataFrame(results, columns=['date','precipitation'])\n",
    "df.set_index(df['date'], inplace=True)\n",
    "\n",
    "# Sort the dataframe by date\n",
    "df = df.sort_index()\n",
    "\n",
    "# Use Pandas Plotting with Matplotlib to plot the data\n",
    "df.plot()\n",
    "plt.xticks(rotation=90)\n",
    "plt.tight_layout()"
   ]
  },
  {
   "cell_type": "code",
   "execution_count": 15,
   "metadata": {},
   "outputs": [
    {
     "data": {
      "text/plain": [
       "(2230, 2)"
      ]
     },
     "execution_count": 15,
     "metadata": {},
     "output_type": "execute_result"
    }
   ],
   "source": [
    "df.shape"
   ]
  },
  {
   "cell_type": "code",
   "execution_count": 16,
   "metadata": {},
   "outputs": [
    {
     "data": {
      "text/html": [
       "<div>\n",
       "<style scoped>\n",
       "    .dataframe tbody tr th:only-of-type {\n",
       "        vertical-align: middle;\n",
       "    }\n",
       "\n",
       "    .dataframe tbody tr th {\n",
       "        vertical-align: top;\n",
       "    }\n",
       "\n",
       "    .dataframe thead th {\n",
       "        text-align: right;\n",
       "    }\n",
       "</style>\n",
       "<table border=\"1\" class=\"dataframe\">\n",
       "  <thead>\n",
       "    <tr style=\"text-align: right;\">\n",
       "      <th></th>\n",
       "      <th>precipitation</th>\n",
       "    </tr>\n",
       "  </thead>\n",
       "  <tbody>\n",
       "    <tr>\n",
       "      <th>count</th>\n",
       "      <td>2021.000000</td>\n",
       "    </tr>\n",
       "    <tr>\n",
       "      <th>mean</th>\n",
       "      <td>0.177279</td>\n",
       "    </tr>\n",
       "    <tr>\n",
       "      <th>std</th>\n",
       "      <td>0.461190</td>\n",
       "    </tr>\n",
       "    <tr>\n",
       "      <th>min</th>\n",
       "      <td>0.000000</td>\n",
       "    </tr>\n",
       "    <tr>\n",
       "      <th>25%</th>\n",
       "      <td>0.000000</td>\n",
       "    </tr>\n",
       "    <tr>\n",
       "      <th>50%</th>\n",
       "      <td>0.020000</td>\n",
       "    </tr>\n",
       "    <tr>\n",
       "      <th>75%</th>\n",
       "      <td>0.130000</td>\n",
       "    </tr>\n",
       "    <tr>\n",
       "      <th>max</th>\n",
       "      <td>6.700000</td>\n",
       "    </tr>\n",
       "  </tbody>\n",
       "</table>\n",
       "</div>"
      ],
      "text/plain": [
       "       precipitation\n",
       "count    2021.000000\n",
       "mean        0.177279\n",
       "std         0.461190\n",
       "min         0.000000\n",
       "25%         0.000000\n",
       "50%         0.020000\n",
       "75%         0.130000\n",
       "max         6.700000"
      ]
     },
     "execution_count": 16,
     "metadata": {},
     "output_type": "execute_result"
    }
   ],
   "source": [
    "# Use Pandas to calcualte the summary statistics for the precipitation data\n",
    "df.describe()"
   ]
  },
  {
   "cell_type": "code",
   "execution_count": 17,
   "metadata": {},
   "outputs": [
    {
     "data": {
      "text/plain": [
       "[('2016-08-23', 6),\n",
       " ('2016-08-24', 6),\n",
       " ('2016-08-25', 7),\n",
       " ('2016-08-26', 6),\n",
       " ('2016-08-27', 5),\n",
       " ('2016-08-28', 6),\n",
       " ('2016-08-29', 6),\n",
       " ('2016-08-30', 6),\n",
       " ('2016-08-31', 5),\n",
       " ('2016-09-01', 5),\n",
       " ('2016-09-02', 5),\n",
       " ('2016-09-03', 5),\n",
       " ('2016-09-04', 5),\n",
       " ('2016-09-05', 4),\n",
       " ('2016-09-06', 5),\n",
       " ('2016-09-07', 6),\n",
       " ('2016-09-08', 6),\n",
       " ('2016-09-09', 6),\n",
       " ('2016-09-10', 5),\n",
       " ('2016-09-11', 5),\n",
       " ('2016-09-12', 5),\n",
       " ('2016-09-13', 6),\n",
       " ('2016-09-14', 6),\n",
       " ('2016-09-15', 6),\n",
       " ('2016-09-16', 7),\n",
       " ('2016-09-17', 5),\n",
       " ('2016-09-18', 5),\n",
       " ('2016-09-19', 5),\n",
       " ('2016-09-20', 7),\n",
       " ('2016-09-21', 6),\n",
       " ('2016-09-22', 7),\n",
       " ('2016-09-23', 7),\n",
       " ('2016-09-24', 6),\n",
       " ('2016-09-25', 6),\n",
       " ('2016-09-26', 6),\n",
       " ('2016-09-27', 6),\n",
       " ('2016-09-28', 7),\n",
       " ('2016-09-29', 7),\n",
       " ('2016-09-30', 6),\n",
       " ('2016-10-01', 6),\n",
       " ('2016-10-02', 6),\n",
       " ('2016-10-03', 6),\n",
       " ('2016-10-04', 6),\n",
       " ('2016-10-05', 6),\n",
       " ('2016-10-06', 7),\n",
       " ('2016-10-07', 6),\n",
       " ('2016-10-08', 5),\n",
       " ('2016-10-09', 5),\n",
       " ('2016-10-10', 5),\n",
       " ('2016-10-11', 6),\n",
       " ('2016-10-12', 6),\n",
       " ('2016-10-13', 6),\n",
       " ('2016-10-14', 6),\n",
       " ('2016-10-15', 6),\n",
       " ('2016-10-16', 5),\n",
       " ('2016-10-17', 5),\n",
       " ('2016-10-18', 6),\n",
       " ('2016-10-19', 6),\n",
       " ('2016-10-20', 5),\n",
       " ('2016-10-21', 5),\n",
       " ('2016-10-22', 5),\n",
       " ('2016-10-23', 5),\n",
       " ('2016-10-24', 6),\n",
       " ('2016-10-25', 7),\n",
       " ('2016-10-26', 6),\n",
       " ('2016-10-27', 6),\n",
       " ('2016-10-28', 6),\n",
       " ('2016-10-29', 6),\n",
       " ('2016-10-30', 6),\n",
       " ('2016-10-31', 6),\n",
       " ('2016-11-01', 6),\n",
       " ('2016-11-02', 6),\n",
       " ('2016-11-03', 6),\n",
       " ('2016-11-04', 6),\n",
       " ('2016-11-05', 6),\n",
       " ('2016-11-06', 6),\n",
       " ('2016-11-07', 6),\n",
       " ('2016-11-08', 6),\n",
       " ('2016-11-09', 7),\n",
       " ('2016-11-10', 6),\n",
       " ('2016-11-11', 6),\n",
       " ('2016-11-12', 6),\n",
       " ('2016-11-13', 6),\n",
       " ('2016-11-14', 7),\n",
       " ('2016-11-15', 6),\n",
       " ('2016-11-16', 6),\n",
       " ('2016-11-17', 6),\n",
       " ('2016-11-18', 4),\n",
       " ('2016-11-19', 4),\n",
       " ('2016-11-20', 4),\n",
       " ('2016-11-21', 5),\n",
       " ('2016-11-22', 5),\n",
       " ('2016-11-23', 5),\n",
       " ('2016-11-24', 5),\n",
       " ('2016-11-25', 5),\n",
       " ('2016-11-26', 6),\n",
       " ('2016-11-27', 6),\n",
       " ('2016-11-28', 6),\n",
       " ('2016-11-29', 6),\n",
       " ('2016-11-30', 6),\n",
       " ('2016-12-01', 6),\n",
       " ('2016-12-02', 6),\n",
       " ('2016-12-03', 6),\n",
       " ('2016-12-04', 6),\n",
       " ('2016-12-05', 6),\n",
       " ('2016-12-06', 5),\n",
       " ('2016-12-07', 5),\n",
       " ('2016-12-08', 7),\n",
       " ('2016-12-09', 5),\n",
       " ('2016-12-10', 5),\n",
       " ('2016-12-11', 5),\n",
       " ('2016-12-12', 6),\n",
       " ('2016-12-13', 6),\n",
       " ('2016-12-14', 6),\n",
       " ('2016-12-15', 6),\n",
       " ('2016-12-16', 6),\n",
       " ('2016-12-17', 5),\n",
       " ('2016-12-18', 5),\n",
       " ('2016-12-19', 6),\n",
       " ('2016-12-20', 6),\n",
       " ('2016-12-21', 7),\n",
       " ('2016-12-22', 6),\n",
       " ('2016-12-23', 6),\n",
       " ('2016-12-24', 6),\n",
       " ('2016-12-25', 5),\n",
       " ('2016-12-26', 5),\n",
       " ('2016-12-27', 6),\n",
       " ('2016-12-28', 6),\n",
       " ('2016-12-29', 6),\n",
       " ('2016-12-30', 6),\n",
       " ('2016-12-31', 5),\n",
       " ('2017-01-01', 5),\n",
       " ('2017-01-02', 5),\n",
       " ('2017-01-03', 5),\n",
       " ('2017-01-04', 6),\n",
       " ('2017-01-05', 6),\n",
       " ('2017-01-06', 6),\n",
       " ('2017-01-07', 6),\n",
       " ('2017-01-08', 6),\n",
       " ('2017-01-09', 6),\n",
       " ('2017-01-10', 6),\n",
       " ('2017-01-11', 5),\n",
       " ('2017-01-12', 4),\n",
       " ('2017-01-13', 4),\n",
       " ('2017-01-14', 5),\n",
       " ('2017-01-15', 4),\n",
       " ('2017-01-16', 5),\n",
       " ('2017-01-17', 6),\n",
       " ('2017-01-18', 6),\n",
       " ('2017-01-19', 6),\n",
       " ('2017-01-20', 6),\n",
       " ('2017-01-21', 6),\n",
       " ('2017-01-22', 5),\n",
       " ('2017-01-23', 5),\n",
       " ('2017-01-24', 5),\n",
       " ('2017-01-25', 5),\n",
       " ('2017-01-26', 7),\n",
       " ('2017-01-27', 7),\n",
       " ('2017-01-28', 5),\n",
       " ('2017-01-29', 4),\n",
       " ('2017-01-30', 6),\n",
       " ('2017-01-31', 7),\n",
       " ('2017-02-01', 7),\n",
       " ('2017-02-02', 7),\n",
       " ('2017-02-03', 6),\n",
       " ('2017-02-04', 4),\n",
       " ('2017-02-05', 5),\n",
       " ('2017-02-06', 6),\n",
       " ('2017-02-07', 7),\n",
       " ('2017-02-08', 7),\n",
       " ('2017-02-09', 7),\n",
       " ('2017-02-10', 7),\n",
       " ('2017-02-11', 6),\n",
       " ('2017-02-12', 6),\n",
       " ('2017-02-13', 6),\n",
       " ('2017-02-14', 6),\n",
       " ('2017-02-15', 5),\n",
       " ('2017-02-16', 6),\n",
       " ('2017-02-17', 6),\n",
       " ('2017-02-18', 4),\n",
       " ('2017-02-19', 4),\n",
       " ('2017-02-20', 4),\n",
       " ('2017-02-21', 5),\n",
       " ('2017-02-22', 7),\n",
       " ('2017-02-23', 7),\n",
       " ('2017-02-24', 7),\n",
       " ('2017-02-25', 4),\n",
       " ('2017-02-26', 4),\n",
       " ('2017-02-27', 6),\n",
       " ('2017-02-28', 6),\n",
       " ('2017-03-01', 7),\n",
       " ('2017-03-02', 6),\n",
       " ('2017-03-03', 6),\n",
       " ('2017-03-04', 5),\n",
       " ('2017-03-05', 4),\n",
       " ('2017-03-06', 4),\n",
       " ('2017-03-07', 5),\n",
       " ('2017-03-08', 5),\n",
       " ('2017-03-09', 6),\n",
       " ('2017-03-10', 7),\n",
       " ('2017-03-11', 5),\n",
       " ('2017-03-12', 4),\n",
       " ('2017-03-13', 5),\n",
       " ('2017-03-14', 7),\n",
       " ('2017-03-15', 6),\n",
       " ('2017-03-16', 5),\n",
       " ('2017-03-17', 5),\n",
       " ('2017-03-18', 5),\n",
       " ('2017-03-19', 5),\n",
       " ('2017-03-20', 5),\n",
       " ('2017-03-21', 6),\n",
       " ('2017-03-22', 6),\n",
       " ('2017-03-23', 6),\n",
       " ('2017-03-24', 6),\n",
       " ('2017-03-25', 5),\n",
       " ('2017-03-26', 5),\n",
       " ('2017-03-27', 5),\n",
       " ('2017-03-28', 6),\n",
       " ('2017-03-29', 6),\n",
       " ('2017-03-30', 5),\n",
       " ('2017-03-31', 6),\n",
       " ('2017-04-01', 6),\n",
       " ('2017-04-02', 6),\n",
       " ('2017-04-03', 6),\n",
       " ('2017-04-04', 7),\n",
       " ('2017-04-05', 7),\n",
       " ('2017-04-06', 7),\n",
       " ('2017-04-07', 6),\n",
       " ('2017-04-08', 3),\n",
       " ('2017-04-09', 4),\n",
       " ('2017-04-10', 6),\n",
       " ('2017-04-11', 6),\n",
       " ('2017-04-12', 6),\n",
       " ('2017-04-13', 6),\n",
       " ('2017-04-14', 6),\n",
       " ('2017-04-15', 5),\n",
       " ('2017-04-16', 5),\n",
       " ('2017-04-17', 5),\n",
       " ('2017-04-18', 7),\n",
       " ('2017-04-19', 6),\n",
       " ('2017-04-20', 6),\n",
       " ('2017-04-21', 6),\n",
       " ('2017-04-22', 5),\n",
       " ('2017-04-23', 4),\n",
       " ('2017-04-24', 4),\n",
       " ('2017-04-25', 6),\n",
       " ('2017-04-26', 6),\n",
       " ('2017-04-27', 6),\n",
       " ('2017-04-28', 6),\n",
       " ('2017-04-29', 6),\n",
       " ('2017-04-30', 6),\n",
       " ('2017-05-01', 6),\n",
       " ('2017-05-02', 6),\n",
       " ('2017-05-03', 5),\n",
       " ('2017-05-04', 5),\n",
       " ('2017-05-05', 6),\n",
       " ('2017-05-06', 6),\n",
       " ('2017-05-07', 5),\n",
       " ('2017-05-08', 6),\n",
       " ('2017-05-09', 5),\n",
       " ('2017-05-10', 6),\n",
       " ('2017-05-11', 5),\n",
       " ('2017-05-12', 5),\n",
       " ('2017-05-13', 5),\n",
       " ('2017-05-14', 5),\n",
       " ('2017-05-15', 5),\n",
       " ('2017-05-16', 6),\n",
       " ('2017-05-17', 6),\n",
       " ('2017-05-18', 6),\n",
       " ('2017-05-19', 4),\n",
       " ('2017-05-20', 4),\n",
       " ('2017-05-21', 5),\n",
       " ('2017-05-22', 5),\n",
       " ('2017-05-23', 6),\n",
       " ('2017-05-24', 6),\n",
       " ('2017-05-25', 6),\n",
       " ('2017-05-26', 5),\n",
       " ('2017-05-27', 6),\n",
       " ('2017-05-28', 6),\n",
       " ('2017-05-29', 5),\n",
       " ('2017-05-30', 5),\n",
       " ('2017-05-31', 5),\n",
       " ('2017-06-01', 6),\n",
       " ('2017-06-02', 5),\n",
       " ('2017-06-03', 5),\n",
       " ('2017-06-04', 6),\n",
       " ('2017-06-05', 6),\n",
       " ('2017-06-06', 6),\n",
       " ('2017-06-07', 6),\n",
       " ('2017-06-08', 6),\n",
       " ('2017-06-09', 5),\n",
       " ('2017-06-10', 5),\n",
       " ('2017-06-11', 6),\n",
       " ('2017-06-12', 6),\n",
       " ('2017-06-13', 6),\n",
       " ('2017-06-14', 6),\n",
       " ('2017-06-15', 6),\n",
       " ('2017-06-16', 6),\n",
       " ('2017-06-17', 6),\n",
       " ('2017-06-18', 6),\n",
       " ('2017-06-19', 6),\n",
       " ('2017-06-20', 5),\n",
       " ('2017-06-21', 4),\n",
       " ('2017-06-22', 6),\n",
       " ('2017-06-23', 6),\n",
       " ('2017-06-24', 5),\n",
       " ('2017-06-25', 5),\n",
       " ('2017-06-26', 5),\n",
       " ('2017-06-27', 6),\n",
       " ('2017-06-28', 6),\n",
       " ('2017-06-29', 6),\n",
       " ('2017-06-30', 7),\n",
       " ('2017-07-01', 4),\n",
       " ('2017-07-02', 4),\n",
       " ('2017-07-03', 5),\n",
       " ('2017-07-04', 4),\n",
       " ('2017-07-05', 4),\n",
       " ('2017-07-06', 5),\n",
       " ('2017-07-07', 5),\n",
       " ('2017-07-08', 6),\n",
       " ('2017-07-09', 6),\n",
       " ('2017-07-10', 6),\n",
       " ('2017-07-11', 6),\n",
       " ('2017-07-12', 6),\n",
       " ('2017-07-13', 6),\n",
       " ('2017-07-14', 6),\n",
       " ('2017-07-15', 6),\n",
       " ('2017-07-16', 6),\n",
       " ('2017-07-17', 6),\n",
       " ('2017-07-18', 7),\n",
       " ('2017-07-19', 6),\n",
       " ('2017-07-20', 7),\n",
       " ('2017-07-21', 7),\n",
       " ('2017-07-22', 6),\n",
       " ('2017-07-23', 5),\n",
       " ('2017-07-24', 5),\n",
       " ('2017-07-25', 7),\n",
       " ('2017-07-26', 6),\n",
       " ('2017-07-27', 6),\n",
       " ('2017-07-28', 7),\n",
       " ('2017-07-29', 6),\n",
       " ('2017-07-30', 5),\n",
       " ('2017-07-31', 5),\n",
       " ('2017-08-01', 3),\n",
       " ('2017-08-02', 4),\n",
       " ('2017-08-03', 4),\n",
       " ('2017-08-04', 4),\n",
       " ('2017-08-05', 2),\n",
       " ('2017-08-06', 4),\n",
       " ('2017-08-07', 4),\n",
       " ('2017-08-08', 4),\n",
       " ('2017-08-09', 3),\n",
       " ('2017-08-10', 4),\n",
       " ('2017-08-11', 3),\n",
       " ('2017-08-12', 3),\n",
       " ('2017-08-13', 3),\n",
       " ('2017-08-14', 5),\n",
       " ('2017-08-15', 5),\n",
       " ('2017-08-16', 4),\n",
       " ('2017-08-17', 4),\n",
       " ('2017-08-18', 3),\n",
       " ('2017-08-19', 3),\n",
       " ('2017-08-20', 2),\n",
       " ('2017-08-21', 3),\n",
       " ('2017-08-22', 3),\n",
       " ('2017-08-23', 4)]"
      ]
     },
     "execution_count": 17,
     "metadata": {},
     "output_type": "execute_result"
    }
   ],
   "source": [
    "session.query(Measurement.date, func.count(Measurement.prcp)).filter(Measurement.date >= prev_year).group_by(Measurement.date).all()"
   ]
  },
  {
   "cell_type": "code",
   "execution_count": 18,
   "metadata": {},
   "outputs": [
    {
     "data": {
      "text/plain": [
       "date\n",
       "2016-08-23    6\n",
       "2016-08-24    6\n",
       "2016-08-25    7\n",
       "2016-08-26    6\n",
       "2016-08-27    5\n",
       "             ..\n",
       "2017-08-19    3\n",
       "2017-08-20    2\n",
       "2017-08-21    3\n",
       "2017-08-22    3\n",
       "2017-08-23    4\n",
       "Name: precipitation, Length: 366, dtype: int64"
      ]
     },
     "execution_count": 18,
     "metadata": {},
     "output_type": "execute_result"
    }
   ],
   "source": [
    "# number of records per day, seems affected by number of stations, etc\n",
    "# The count will ingore null value\n",
    "df.groupby(df.index)[\"precipitation\"].count()"
   ]
  },
  {
   "cell_type": "code",
   "execution_count": 34,
   "metadata": {},
   "outputs": [
    {
     "data": {
      "text/plain": [
       "array(['USC00519397', 'USC00513117', 'USC00514830', 'USC00517948',\n",
       "       'USC00518838', 'USC00519523', 'USC00519281', 'USC00511918',\n",
       "       'USC00516128'], dtype='<U11')"
      ]
     },
     "execution_count": 34,
     "metadata": {},
     "output_type": "execute_result"
    }
   ],
   "source": [
    "results = session.query(Station.station).all()\n",
    "np.ravel(results)"
   ]
  },
  {
   "cell_type": "code",
   "execution_count": 19,
   "metadata": {},
   "outputs": [
    {
     "data": {
      "text/plain": [
       "[(9)]"
      ]
     },
     "execution_count": 19,
     "metadata": {},
     "output_type": "execute_result"
    }
   ],
   "source": [
    "# How many stations are available in this dataset? 9 stations\n",
    "# session.query(func.count(Station.station))\n",
    "session.query(func.count(Station.station)).all()"
   ]
  },
  {
   "cell_type": "code",
   "execution_count": 20,
   "metadata": {},
   "outputs": [
    {
     "data": {
      "text/plain": [
       "[('USC00519281', 2772),\n",
       " ('USC00519397', 2724),\n",
       " ('USC00513117', 2709),\n",
       " ('USC00519523', 2669),\n",
       " ('USC00516128', 2612),\n",
       " ('USC00514830', 2202),\n",
       " ('USC00511918', 1979),\n",
       " ('USC00517948', 1372),\n",
       " ('USC00518838', 511)]"
      ]
     },
     "execution_count": 20,
     "metadata": {},
     "output_type": "execute_result"
    }
   ],
   "source": [
    "# What are the most active stations?\n",
    "# List the stations and the counts in descending order.\n",
    "active_count = session.query(Measurement.station, func.count(Measurement.station)).\\\n",
    "group_by(Measurement.station).order_by(func.count(Measurement.station).desc()).all()\n",
    "active_count"
   ]
  },
  {
   "cell_type": "code",
   "execution_count": 21,
   "metadata": {},
   "outputs": [],
   "source": [
    "most_active = active_count[0][0]"
   ]
  },
  {
   "cell_type": "code",
   "execution_count": 22,
   "metadata": {},
   "outputs": [
    {
     "data": {
      "text/plain": [
       "[(54.0, 85.0, 71.66378066378067)]"
      ]
     },
     "execution_count": 22,
     "metadata": {},
     "output_type": "execute_result"
    }
   ],
   "source": [
    "# Using the station id from the previous query, calculate the lowest temperature recorded, \n",
    "# highest temperature recorded, and average temperature most active station?\n",
    "session.query(func.min(Measurement.tobs), func.max(Measurement.tobs), func.avg(Measurement.tobs)).filter(Measurement.station == most_active).all()"
   ]
  },
  {
   "cell_type": "code",
   "execution_count": 23,
   "metadata": {},
   "outputs": [
    {
     "data": {
      "text/html": [
       "<div>\n",
       "<style scoped>\n",
       "    .dataframe tbody tr th:only-of-type {\n",
       "        vertical-align: middle;\n",
       "    }\n",
       "\n",
       "    .dataframe tbody tr th {\n",
       "        vertical-align: top;\n",
       "    }\n",
       "\n",
       "    .dataframe thead th {\n",
       "        text-align: right;\n",
       "    }\n",
       "</style>\n",
       "<table border=\"1\" class=\"dataframe\">\n",
       "  <thead>\n",
       "    <tr style=\"text-align: right;\">\n",
       "      <th></th>\n",
       "      <th>tobs</th>\n",
       "    </tr>\n",
       "  </thead>\n",
       "  <tbody>\n",
       "    <tr>\n",
       "      <th>0</th>\n",
       "      <td>77.0</td>\n",
       "    </tr>\n",
       "    <tr>\n",
       "      <th>1</th>\n",
       "      <td>77.0</td>\n",
       "    </tr>\n",
       "    <tr>\n",
       "      <th>2</th>\n",
       "      <td>80.0</td>\n",
       "    </tr>\n",
       "    <tr>\n",
       "      <th>3</th>\n",
       "      <td>80.0</td>\n",
       "    </tr>\n",
       "    <tr>\n",
       "      <th>4</th>\n",
       "      <td>75.0</td>\n",
       "    </tr>\n",
       "    <tr>\n",
       "      <th>...</th>\n",
       "      <td>...</td>\n",
       "    </tr>\n",
       "    <tr>\n",
       "      <th>347</th>\n",
       "      <td>77.0</td>\n",
       "    </tr>\n",
       "    <tr>\n",
       "      <th>348</th>\n",
       "      <td>77.0</td>\n",
       "    </tr>\n",
       "    <tr>\n",
       "      <th>349</th>\n",
       "      <td>76.0</td>\n",
       "    </tr>\n",
       "    <tr>\n",
       "      <th>350</th>\n",
       "      <td>76.0</td>\n",
       "    </tr>\n",
       "    <tr>\n",
       "      <th>351</th>\n",
       "      <td>79.0</td>\n",
       "    </tr>\n",
       "  </tbody>\n",
       "</table>\n",
       "<p>352 rows × 1 columns</p>\n",
       "</div>"
      ],
      "text/plain": [
       "     tobs\n",
       "0    77.0\n",
       "1    77.0\n",
       "2    80.0\n",
       "3    80.0\n",
       "4    75.0\n",
       "..    ...\n",
       "347  77.0\n",
       "348  77.0\n",
       "349  76.0\n",
       "350  76.0\n",
       "351  79.0\n",
       "\n",
       "[352 rows x 1 columns]"
      ]
     },
     "execution_count": 23,
     "metadata": {},
     "output_type": "execute_result"
    }
   ],
   "source": [
    "# Choose the station with the highest number of temperature observations.\n",
    "# Query the last 12 months of temperature observation data for this station and plot the results as a histogram\n",
    "# Below works too.\n",
    "# session.query(Measurement.tobs).filter((Measurement.station == most_active) & (Measurement.date > prev_year)).all()\n",
    "\n",
    "results = session.query(Measurement.tobs).\\\n",
    "filter(Measurement.station == most_active).\\\n",
    "filter(Measurement.date >= prev_year).all()\n",
    "\n",
    "most_active_station_temp = pd.DataFrame(results)\n",
    "most_active_station_temp"
   ]
  },
  {
   "cell_type": "code",
   "execution_count": 24,
   "metadata": {},
   "outputs": [
    {
     "data": {
      "image/png": "[encoded data removed]",
      "text/plain": [
       "<Figure size 432x288 with 1 Axes>"
      ]
     },
     "metadata": {},
     "output_type": "display_data"
    }
   ],
   "source": [
    "most_active_station_temp.hist(bins=12)\n",
    "plt.tight_layout()"
   ]
  },
  {
   "cell_type": "code",
   "execution_count": 25,
   "metadata": {},
   "outputs": [],
   "source": [
    "# Write a function called `calc_temps` that will accept start date and end date in the format '%Y-%m-%d' \n",
    "# and return the minimum, average, and maximum temperatures for that range of dates\n",
    "def calc_temps(start_date, end_date):\n",
    "    \n",
    "#     start_date = dt.datetime.strptime(start_date,\"%Y-%m-%d\")\n",
    "#     end_date = dt.datetime.strptime(end_date,\"%Y-%m-%d\")\n",
    "    \n",
    "    minimum, average, maximum = session.query(func.min(Measurement.tobs), func.avg(Measurement.tobs), func.max(Measurement.tobs)).\\\n",
    "    filter((Measurement.date > start_date) & (Measurement.date < end_date)).all()[0]\n",
    "\n",
    "    return minimum, average, maximum"
   ]
  },
  {
   "cell_type": "code",
   "execution_count": 26,
   "metadata": {},
   "outputs": [
    {
     "data": {
      "text/plain": [
       "<sqlalchemy.orm.attributes.InstrumentedAttribute at 0x1ea7ac2ed68>"
      ]
     },
     "execution_count": 26,
     "metadata": {},
     "output_type": "execute_result"
    }
   ],
   "source": [
    "Measurement.date"
   ]
  },
  {
   "cell_type": "code",
   "execution_count": 27,
   "metadata": {},
   "outputs": [
    {
     "data": {
      "text/plain": [
       "datetime.datetime(2017, 1, 1, 0, 0)"
      ]
     },
     "execution_count": 27,
     "metadata": {},
     "output_type": "execute_result"
    }
   ],
   "source": [
    "dt.datetime.strptime(\"2017-01-01\",\"%Y-%m-%d\")"
   ]
  },
  {
   "cell_type": "code",
   "execution_count": 28,
   "metadata": {},
   "outputs": [
    {
     "data": {
      "text/plain": [
       "datetime.date(2016, 8, 23)"
      ]
     },
     "execution_count": 28,
     "metadata": {},
     "output_type": "execute_result"
    }
   ],
   "source": [
    "prev_year"
   ]
  },
  {
   "cell_type": "code",
   "execution_count": 35,
   "metadata": {
    "scrolled": true
   },
   "outputs": [
    {
     "data": {
      "text/plain": [
       "(71.0, 77.24719101123596, 83.0)"
      ]
     },
     "execution_count": 35,
     "metadata": {},
     "output_type": "execute_result"
    }
   ],
   "source": [
    "calc_temps(\"2017-06-01\",\"2017-06-30\")"
   ]
  },
  {
   "cell_type": "code",
   "execution_count": 37,
   "metadata": {},
   "outputs": [],
   "source": [
    "def calc_temps2(start_date):\n",
    "    \n",
    "#     start_date = dt.datetime.strptime(start_date,\"%Y-%m-%d\")\n",
    "#     end_date = dt.datetime.strptime(end_date,\"%Y-%m-%d\")\n",
    "    \n",
    "    minimum, average, maximum = session.query(func.min(Measurement.tobs), func.avg(Measurement.tobs), func.max(Measurement.tobs)).\\\n",
    "    filter(Measurement.date > start_date).all()[0]\n",
    "\n",
    "    return minimum, average, maximum"
   ]
  },
  {
   "cell_type": "code",
   "execution_count": 38,
   "metadata": {
    "scrolled": true
   },
   "outputs": [
    {
     "data": {
      "text/plain": [
       "(69.0, 78.04042553191489, 87.0)"
      ]
     },
     "execution_count": 38,
     "metadata": {},
     "output_type": "execute_result"
    }
   ],
   "source": [
    "calc_temps2(\"2017-06-01\")"
   ]
  },
  {
   "cell_type": "code",
   "execution_count": null,
   "metadata": {},
   "outputs": [],
   "source": [
    "def stats(start=None, end=None):\n",
    "    sel = [func.min(Measurement.tobs), func.avg(Measurement.tobs), func.max(Measurement.tobs)]\n",
    "\n",
    "    if end == None:\n",
    "        # asterisk is used to indicate there will be multiple results for our query\n",
    "        results = session.query(*sel).\\\n",
    "            filter(Measurement.date >= start).all()\n",
    "        temps = list(np.ravel(results))\n",
    "        return jsonify(temps=temps)\n",
    "\n",
    "    results = session.query(*sel).\\\n",
    "        filter(Measurement.date >= start).\\\n",
    "        filter(Measurement.date <= end).all()\n",
    "    temps = list(np.ravel(results))\n",
    "    return jsonify(temps=temps)"
   ]
  }
 ],
 "metadata": {
  "kernelspec": {
   "display_name": "Python 3",
   "language": "python",
   "name": "python3"
  },
  "language_info": {
   "codemirror_mode": {
    "name": "ipython",
    "version": 3
   },
   "file_extension": ".py",
   "mimetype": "text/x-python",
   "name": "python",
   "nbconvert_exporter": "python",
   "pygments_lexer": "ipython3",
   "version": "3.7.7"
  }
 },
 "nbformat": 4,
 "nbformat_minor": 2
}
